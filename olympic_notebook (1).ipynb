{
 "cells": [
  {
   "cell_type": "markdown",
   "metadata": {
    "application/vnd.databricks.v1+cell": {
     "cellMetadata": {},
     "inputWidgets": {},
     "nuid": "0c57fda0-480b-41f1-8156-21c68eab4d99",
     "showTitle": false,
     "tableResultSettingsMap": {},
     "title": ""
    }
   },
   "source": [
    "### _bronze_layer moving file system data to hive table for querable format_"
   ]
  },
  {
   "cell_type": "markdown",
   "metadata": {
    "application/vnd.databricks.v1+cell": {
     "cellMetadata": {},
     "inputWidgets": {},
     "nuid": "ed99442a-9acd-4bf2-a0c7-dde47b4aaa69",
     "showTitle": false,
     "tableResultSettingsMap": {},
     "title": ""
    }
   },
   "source": [
    "### # Access Key (One-time config)"
   ]
  },
  {
   "cell_type": "code",
   "execution_count": 0,
   "metadata": {
    "application/vnd.databricks.v1+cell": {
     "cellMetadata": {
      "byteLimit": 2048000,
      "rowLimit": 10000
     },
     "inputWidgets": {},
     "nuid": "46d5172b-7780-49a9-847a-7b5b107000af",
     "showTitle": false,
     "tableResultSettingsMap": {},
     "title": ""
    }
   },
   "outputs": [],
   "source": [
    "spark.conf.set(\n",
    "  \"*************************************************************************\"\n",
    ")\n"
   ]
  },
  {
   "cell_type": "markdown",
   "metadata": {
    "application/vnd.databricks.v1+cell": {
     "cellMetadata": {},
     "inputWidgets": {},
     "nuid": "77a31f16-8ed0-4183-9bc2-51b81d921729",
     "showTitle": false,
     "tableResultSettingsMap": {},
     "title": ""
    }
   },
   "source": [
    "_Read Parquet file as _DataFrame__"
   ]
  },
  {
   "cell_type": "code",
   "execution_count": 0,
   "metadata": {
    "application/vnd.databricks.v1+cell": {
     "cellMetadata": {
      "byteLimit": 2048000,
      "rowLimit": 10000
     },
     "inputWidgets": {},
     "nuid": "77aa71e4-579b-446e-9ad4-0e55b94134a7",
     "showTitle": false,
     "tableResultSettingsMap": {},
     "title": ""
    }
   },
   "outputs": [],
   "source": [
    "df_athletes = spark.read.parquet(\"abfss://bronze@olympicprjdl.dfs.core.windows.net/athletes/\")\n",
    "df_athletes.show(5)"
   ]
  },
  {
   "cell_type": "code",
   "execution_count": 0,
   "metadata": {
    "application/vnd.databricks.v1+cell": {
     "cellMetadata": {
      "byteLimit": 2048000,
      "rowLimit": 10000
     },
     "inputWidgets": {},
     "nuid": "ad98bb01-63c5-4c37-bcd2-096916537337",
     "showTitle": false,
     "tableResultSettingsMap": {},
     "title": ""
    }
   },
   "outputs": [],
   "source": [
    "spark.sql(\"CREATE DATABASE IF NOT EXISTS bronze_db\")"
   ]
  },
  {
   "cell_type": "markdown",
   "metadata": {
    "application/vnd.databricks.v1+cell": {
     "cellMetadata": {},
     "inputWidgets": {},
     "nuid": "38545cdc-6f7a-4542-91e4-29d53a7c5428",
     "showTitle": false,
     "tableResultSettingsMap": {},
     "title": ""
    }
   },
   "source": [
    "_Save tables from DataFrame_"
   ]
  },
  {
   "cell_type": "code",
   "execution_count": 0,
   "metadata": {
    "application/vnd.databricks.v1+cell": {
     "cellMetadata": {
      "byteLimit": 2048000,
      "rowLimit": 10000
     },
     "inputWidgets": {},
     "nuid": "e2b59e1a-c400-41c0-b111-880ca1c9a24e",
     "showTitle": false,
     "tableResultSettingsMap": {},
     "title": ""
    }
   },
   "outputs": [],
   "source": [
    "df_athletes.write.mode(\"overwrite\").saveAsTable(\"bronze_db.athletes\")"
   ]
  },
  {
   "cell_type": "markdown",
   "metadata": {
    "application/vnd.databricks.v1+cell": {
     "cellMetadata": {},
     "inputWidgets": {},
     "nuid": "adf9e53d-b2cb-4125-8802-b6d730d8850e",
     "showTitle": false,
     "tableResultSettingsMap": {},
     "title": ""
    }
   },
   "source": [
    "_Validate Table Output_"
   ]
  },
  {
   "cell_type": "code",
   "execution_count": 0,
   "metadata": {
    "application/vnd.databricks.v1+cell": {
     "cellMetadata": {
      "byteLimit": 2048000,
      "implicitDf": true,
      "rowLimit": 10000
     },
     "inputWidgets": {},
     "nuid": "765fac23-77c1-441a-ac39-cce7e44e3ec6",
     "showTitle": false,
     "tableResultSettingsMap": {},
     "title": ""
    }
   },
   "outputs": [],
   "source": [
    "%sql\n",
    "SELECT * FROM bronze_db.athletes LIMIT 10"
   ]
  },
  {
   "cell_type": "code",
   "execution_count": 0,
   "metadata": {
    "application/vnd.databricks.v1+cell": {
     "cellMetadata": {
      "byteLimit": 2048000,
      "rowLimit": 10000
     },
     "inputWidgets": {},
     "nuid": "597aa5cd-6437-49a4-acc8-dd7f767c4878",
     "showTitle": false,
     "tableResultSettingsMap": {},
     "title": ""
    }
   },
   "outputs": [],
   "source": [
    "df_coaches = spark.read.parquet(\"abfss://bronze@olympicprjdl.dfs.core.windows.net/coaches/\")\n",
    "df_coaches.write.mode(\"overwrite\").saveAsTable(\"bronze_db.coaches\")"
   ]
  },
  {
   "cell_type": "code",
   "execution_count": 0,
   "metadata": {
    "application/vnd.databricks.v1+cell": {
     "cellMetadata": {
      "byteLimit": 2048000,
      "rowLimit": 10000
     },
     "inputWidgets": {},
     "nuid": "144f2ef3-55df-4490-b859-cfcec681750c",
     "showTitle": false,
     "tableResultSettingsMap": {},
     "title": ""
    }
   },
   "outputs": [],
   "source": [
    "df_events = spark.read.parquet(\"abfss://bronze@olympicprjdl.dfs.core.windows.net/events/\")\n",
    "df_events.write.mode(\"overwrite\").saveAsTable(\"bronze_db.events\")\n"
   ]
  },
  {
   "cell_type": "code",
   "execution_count": 0,
   "metadata": {
    "application/vnd.databricks.v1+cell": {
     "cellMetadata": {
      "byteLimit": 2048000,
      "implicitDf": true,
      "rowLimit": 10000
     },
     "inputWidgets": {},
     "nuid": "248b6e3f-4dc0-4796-974a-c6c9e81b245c",
     "showTitle": false,
     "tableResultSettingsMap": {},
     "title": ""
    }
   },
   "outputs": [],
   "source": [
    "%sql\n",
    "SELECT * FROM bronze_db.events LIMIT 10;"
   ]
  },
  {
   "cell_type": "code",
   "execution_count": 0,
   "metadata": {
    "application/vnd.databricks.v1+cell": {
     "cellMetadata": {
      "byteLimit": 2048000,
      "implicitDf": true,
      "rowLimit": 10000
     },
     "inputWidgets": {},
     "nuid": "7fc1607a-e247-4fd5-aa1c-b48181e7ad29",
     "showTitle": false,
     "tableResultSettingsMap": {},
     "title": ""
    }
   },
   "outputs": [],
   "source": [
    "%sql\n",
    "SHOW TABLES IN bronze_db;"
   ]
  },
  {
   "cell_type": "markdown",
   "metadata": {
    "application/vnd.databricks.v1+cell": {
     "cellMetadata": {},
     "inputWidgets": {},
     "nuid": "ca34eb8b-0cf3-420e-b8fb-be3f3410d795",
     "showTitle": false,
     "tableResultSettingsMap": {},
     "title": ""
    }
   },
   "source": [
    "_SILVER LAYER GOAL:\n",
    "Bronze → Raw Data\n",
    "Silver → Cleaned + Filtered + Useful for business logic_"
   ]
  },
  {
   "cell_type": "markdown",
   "metadata": {
    "application/vnd.databricks.v1+cell": {
     "cellMetadata": {},
     "inputWidgets": {},
     "nuid": "1c9a1b15-9d20-4e0b-a510-57e40e7bfc4b",
     "showTitle": false,
     "tableResultSettingsMap": {},
     "title": ""
    }
   },
   "source": [
    "_Create Silver Database_"
   ]
  },
  {
   "cell_type": "markdown",
   "metadata": {
    "application/vnd.databricks.v1+cell": {
     "cellMetadata": {},
     "inputWidgets": {},
     "nuid": "c945ff8b-b35f-4374-9667-64b1f2a0ff1c",
     "showTitle": false,
     "tableResultSettingsMap": {},
     "title": ""
    }
   },
   "source": []
  },
  {
   "cell_type": "code",
   "execution_count": 0,
   "metadata": {
    "application/vnd.databricks.v1+cell": {
     "cellMetadata": {
      "byteLimit": 2048000,
      "rowLimit": 10000
     },
     "inputWidgets": {},
     "nuid": "a8f60069-e189-4664-8cff-9b428efe054f",
     "showTitle": false,
     "tableResultSettingsMap": {},
     "title": ""
    }
   },
   "outputs": [],
   "source": [
    "spark.sql(\"CREATE DATABASE IF NOT EXISTS silver_db\")"
   ]
  },
  {
   "cell_type": "code",
   "execution_count": 0,
   "metadata": {
    "application/vnd.databricks.v1+cell": {
     "cellMetadata": {
      "byteLimit": 2048000,
      "rowLimit": 10000
     },
     "inputWidgets": {},
     "nuid": "56b060f1-329d-4168-be22-a7a9675009c4",
     "showTitle": false,
     "tableResultSettingsMap": {},
     "title": ""
    }
   },
   "outputs": [],
   "source": [
    "from pyspark.sql.functions import to_date, months_between, floor, current_date, col\n",
    "\n",
    "# 1. Load Bronze table\n",
    "df = spark.table(\"bronze_db.athletes\")\n",
    "\n",
    "# 2. Parse birth_date and calculate age\n",
    "df = df.withColumn(\"birth_date_parsed\", to_date(col(\"birth_date\"), \"yyyy-MM-dd\"))\n",
    "df = df.withColumn(\"age\", floor(months_between(current_date(), col(\"birth_date_parsed\")) / 12))\n",
    "\n",
    "\n",
    "\n",
    "# 4. Select only useful columns\n",
    "df_silver = df.select(\n",
    "    \"code\", \"name\", \"gender\", \"age\", \"country\", \"events\", \"coach\"\n",
    ")\n",
    "\n",
    "\n",
    "# 5. Save to silver layer table\n",
    "df_silver.write.mode(\"overwrite\").saveAsTable(\"silver_db.athletes\")\n"
   ]
  },
  {
   "cell_type": "code",
   "execution_count": 0,
   "metadata": {
    "application/vnd.databricks.v1+cell": {
     "cellMetadata": {
      "byteLimit": 2048000,
      "rowLimit": 10000
     },
     "inputWidgets": {},
     "nuid": "de30cd9c-0b69-4cb1-83b7-2a0c30e0e885",
     "showTitle": false,
     "tableResultSettingsMap": {},
     "title": ""
    }
   },
   "outputs": [],
   "source": [
    "df_silver = df.select(\n",
    "    \"code\", \"name\", \"gender\", \"age\", \"country\", \"coach\", \n",
    "    \"height\", \"weight\", \"birth_place\", \"residence_country\"\n",
    ")\n",
    "\n",
    "# Save to table\n",
    "df_silver.write.mode(\"overwrite\").saveAsTable(\"silver_db.athletes\")"
   ]
  },
  {
   "cell_type": "code",
   "execution_count": 0,
   "metadata": {
    "application/vnd.databricks.v1+cell": {
     "cellMetadata": {
      "byteLimit": 2048000,
      "rowLimit": 10000
     },
     "inputWidgets": {},
     "nuid": "c306981f-3ee5-4e74-8daa-5af6c969724a",
     "showTitle": false,
     "tableResultSettingsMap": {},
     "title": ""
    }
   },
   "outputs": [],
   "source": [
    "df_silver.count()\n",
    "df_silver.show(5)"
   ]
  },
  {
   "cell_type": "code",
   "execution_count": 0,
   "metadata": {
    "application/vnd.databricks.v1+cell": {
     "cellMetadata": {
      "byteLimit": 2048000,
      "implicitDf": true,
      "rowLimit": 10000
     },
     "inputWidgets": {},
     "nuid": "cba5eeb3-b0f2-43dc-a1b9-1c70b7de7b35",
     "showTitle": false,
     "tableResultSettingsMap": {},
     "title": ""
    }
   },
   "outputs": [],
   "source": [
    "%sql\n",
    "SELECT * FROM silver_db.athletes LIMIT 5;"
   ]
  },
  {
   "cell_type": "markdown",
   "metadata": {
    "application/vnd.databricks.v1+cell": {
     "cellMetadata": {
      "byteLimit": 2048000,
      "rowLimit": 10000
     },
     "inputWidgets": {},
     "nuid": "c06ce496-3ed8-4b9d-a333-59996f99a600",
     "showTitle": false,
     "tableResultSettingsMap": {},
     "title": ""
    }
   },
   "source": [
    "_countries by number of athletes_\n"
   ]
  },
  {
   "cell_type": "code",
   "execution_count": 0,
   "metadata": {
    "application/vnd.databricks.v1+cell": {
     "cellMetadata": {
      "byteLimit": 2048000,
      "rowLimit": 10000
     },
     "inputWidgets": {},
     "nuid": "c48c8982-047b-4dda-aeb1-2b73f730049e",
     "showTitle": false,
     "tableResultSettingsMap": {},
     "title": ""
    }
   },
   "outputs": [],
   "source": [
    "df_silver.groupBy(\"country\").count().orderBy(\"count\", ascending=False).show(10)"
   ]
  },
  {
   "cell_type": "code",
   "execution_count": 0,
   "metadata": {
    "application/vnd.databricks.v1+cell": {
     "cellMetadata": {
      "byteLimit": 2048000,
      "rowLimit": 10000
     },
     "inputWidgets": {},
     "nuid": "2c9fb444-ea8d-4a44-b63d-13175aad6e6c",
     "showTitle": false,
     "tableResultSettingsMap": {},
     "title": ""
    }
   },
   "outputs": [],
   "source": [
    "# Average age per country\n",
    "df_silver.groupBy(\"country\").avg(\"age\").orderBy(\"avg(age)\", ascending=False).show(10)\n"
   ]
  },
  {
   "cell_type": "markdown",
   "metadata": {
    "application/vnd.databricks.v1+cell": {
     "cellMetadata": {},
     "inputWidgets": {},
     "nuid": "35402bcf-98c5-4d3c-9083-7876e8546d3f",
     "showTitle": false,
     "tableResultSettingsMap": {},
     "title": ""
    }
   },
   "source": [
    "## _Steps_"
   ]
  },
  {
   "cell_type": "code",
   "execution_count": 0,
   "metadata": {
    "application/vnd.databricks.v1+cell": {
     "cellMetadata": {
      "byteLimit": 2048000,
      "rowLimit": 10000
     },
     "inputWidgets": {},
     "nuid": "e225d86c-d9f1-4c74-aa9e-8774ef38fe5a",
     "showTitle": false,
     "tableResultSettingsMap": {},
     "title": ""
    }
   },
   "outputs": [],
   "source": [
    "# Load from Bronze\n",
    "df_bronze_coaches = spark.table(\"bronze_db.coaches\")\n",
    "df_bronze_events = spark.table(\"bronze_db.events\")\n"
   ]
  },
  {
   "cell_type": "code",
   "execution_count": 0,
   "metadata": {
    "application/vnd.databricks.v1+cell": {
     "cellMetadata": {
      "byteLimit": 2048000,
      "rowLimit": 10000
     },
     "inputWidgets": {},
     "nuid": "d48db679-a3b2-42c0-b021-8486d528ee12",
     "showTitle": false,
     "tableResultSettingsMap": {},
     "title": ""
    }
   },
   "outputs": [],
   "source": [
    "df_bronze_coaches.printSchema()\n"
   ]
  },
  {
   "cell_type": "code",
   "execution_count": 0,
   "metadata": {
    "application/vnd.databricks.v1+cell": {
     "cellMetadata": {
      "byteLimit": 2048000,
      "rowLimit": 10000
     },
     "inputWidgets": {},
     "nuid": "32dc2229-d78b-48aa-b378-d91ddcb9077f",
     "showTitle": false,
     "tableResultSettingsMap": {},
     "title": ""
    }
   },
   "outputs": [],
   "source": [
    "#  Simple Cleaning & Selection\n",
    "df_silver_coaches = df_bronze_coaches.select(\n",
    "    \"code\", \"name\", \"gender\", \"disciplines\", \"country\", \"birth_date\"\n",
    ")\n",
    "#  Save as Table\n",
    "df_silver_coaches.write.mode(\"overwrite\").saveAsTable(\"silver_db.coaches\")\n",
    "\n"
   ]
  },
  {
   "cell_type": "markdown",
   "metadata": {
    "application/vnd.databricks.v1+cell": {
     "cellMetadata": {},
     "inputWidgets": {},
     "nuid": "ab47748d-1ff5-4fe0-8cf2-bc6da794c545",
     "showTitle": false,
     "tableResultSettingsMap": {},
     "title": ""
    }
   },
   "source": [
    "## _check_ _schema_"
   ]
  },
  {
   "cell_type": "code",
   "execution_count": 0,
   "metadata": {
    "application/vnd.databricks.v1+cell": {
     "cellMetadata": {
      "byteLimit": 2048000,
      "rowLimit": 10000
     },
     "inputWidgets": {},
     "nuid": "3b01c33b-44e6-4b42-94a0-9826e14acef7",
     "showTitle": false,
     "tableResultSettingsMap": {},
     "title": ""
    }
   },
   "outputs": [],
   "source": [
    "df_bronze_events.printSchema()\n"
   ]
  },
  {
   "cell_type": "markdown",
   "metadata": {
    "application/vnd.databricks.v1+cell": {
     "cellMetadata": {},
     "inputWidgets": {},
     "nuid": "4a7b5171-ebfd-4398-b94f-76ca765163dd",
     "showTitle": false,
     "tableResultSettingsMap": {},
     "title": ""
    }
   },
   "source": [
    "_Cleaned schema_"
   ]
  },
  {
   "cell_type": "code",
   "execution_count": 0,
   "metadata": {
    "application/vnd.databricks.v1+cell": {
     "cellMetadata": {
      "byteLimit": 2048000,
      "rowLimit": 10000
     },
     "inputWidgets": {},
     "nuid": "8446ee8f-7268-4865-982f-c82c3b6544da",
     "showTitle": false,
     "tableResultSettingsMap": {},
     "title": ""
    }
   },
   "outputs": [],
   "source": [
    "df_silver_events = df_bronze_events.select(\n",
    "    \"tag\", \"sport\", \"event\", \"sport_code\"\n",
    ").where(\"event IS NOT NULL AND event != ''\")\n",
    "df_silver_events.write.mode(\"overwrite\").saveAsTable(\"silver_db.events\")"
   ]
  },
  {
   "cell_type": "code",
   "execution_count": 0,
   "metadata": {
    "application/vnd.databricks.v1+cell": {
     "cellMetadata": {
      "byteLimit": 2048000,
      "implicitDf": true,
      "rowLimit": 10000
     },
     "inputWidgets": {},
     "nuid": "543159f0-642c-4009-87c5-49e4c2b27e30",
     "showTitle": false,
     "tableResultSettingsMap": {},
     "title": ""
    }
   },
   "outputs": [],
   "source": [
    "%sql\n",
    "SELECT * FROM silver_db.coaches LIMIT 5;\n",
    "-- SELECT * FROM silver_db.events LIMIT 5;\n"
   ]
  },
  {
   "cell_type": "markdown",
   "metadata": {
    "application/vnd.databricks.v1+cell": {
     "cellMetadata": {},
     "inputWidgets": {},
     "nuid": "7cae4fa4-b01e-40dd-a857-3005a4f2469e",
     "showTitle": false,
     "tableResultSettingsMap": {},
     "title": ""
    }
   },
   "source": [
    "## _Gold Layer_"
   ]
  },
  {
   "cell_type": "code",
   "execution_count": 0,
   "metadata": {
    "application/vnd.databricks.v1+cell": {
     "cellMetadata": {
      "byteLimit": 2048000,
      "rowLimit": 10000
     },
     "inputWidgets": {},
     "nuid": "c5fd20e1-f530-43f6-844a-98884b4dc305",
     "showTitle": false,
     "tableResultSettingsMap": {},
     "title": ""
    }
   },
   "outputs": [],
   "source": [
    "spark.sql(\"CREATE DATABASE IF NOT EXISTS gold_db\")\n"
   ]
  },
  {
   "cell_type": "code",
   "execution_count": 0,
   "metadata": {
    "application/vnd.databricks.v1+cell": {
     "cellMetadata": {
      "byteLimit": 2048000,
      "rowLimit": 10000
     },
     "inputWidgets": {},
     "nuid": "d82573a8-8fca-4b4d-a883-f18e534d46a6",
     "showTitle": false,
     "tableResultSettingsMap": {},
     "title": ""
    }
   },
   "outputs": [],
   "source": [
    "# 1. Gold Table: Top Countries by Number of Athletes\n",
    "from pyspark.sql.functions import count\n",
    "\n",
    "gold_country_athletes = spark.table(\"silver_db.athletes\") \\\n",
    "    .groupBy(\"country\") \\\n",
    "    .agg(count(\"code\").alias(\"total_athletes\")) \\\n",
    "    .orderBy(\"total_athletes\", ascending=False)\n",
    "\n",
    "gold_country_athletes.write.mode(\"overwrite\").saveAsTable(\"gold_db.top_countries_by_athletes\")\n"
   ]
  },
  {
   "cell_type": "code",
   "execution_count": 0,
   "metadata": {
    "application/vnd.databricks.v1+cell": {
     "cellMetadata": {
      "byteLimit": 2048000,
      "rowLimit": 10000
     },
     "inputWidgets": {},
     "nuid": "360dace6-3e08-4091-b960-0290dbf1bef9",
     "showTitle": false,
     "tableResultSettingsMap": {},
     "title": ""
    }
   },
   "outputs": [],
   "source": [
    "#  Gold Table: Coaches with Most Athletes\n",
    "gold_top_coaches = spark.table(\"silver_db.coaches\") \\\n",
    "    .groupBy(\"name\") \\\n",
    "    .agg(count(\"code\").alias(\"athletes_trained\")) \\\n",
    "    .orderBy(\"athletes_trained\", ascending=False)\n",
    "\n",
    "gold_top_coaches.write.mode(\"overwrite\").saveAsTable(\"gold_db.top_coaches\")\n"
   ]
  },
  {
   "cell_type": "code",
   "execution_count": 0,
   "metadata": {
    "application/vnd.databricks.v1+cell": {
     "cellMetadata": {
      "byteLimit": 2048000,
      "rowLimit": 10000
     },
     "inputWidgets": {},
     "nuid": "65548c6e-cbeb-4663-a52e-87a7daf15d67",
     "showTitle": false,
     "tableResultSettingsMap": {},
     "title": ""
    }
   },
   "outputs": [],
   "source": [
    "# Event Count per Country\n",
    "from pyspark.sql.functions import countDistinct\n",
    "\n",
    "gold_event_count = spark.table(\"silver_db.events\") \\\n",
    "    .groupBy(\"sport\") \\\n",
    "    .agg(countDistinct(\"event\").alias(\"total_events\")) \\\n",
    "    .orderBy(\"total_events\", ascending=False)\n",
    "\n",
    "gold_event_count.write.mode(\"overwrite\").saveAsTable(\"gold_db.events_per_country\")\n"
   ]
  },
  {
   "cell_type": "code",
   "execution_count": 0,
   "metadata": {
    "application/vnd.databricks.v1+cell": {
     "cellMetadata": {
      "byteLimit": 2048000,
      "implicitDf": true,
      "rowLimit": 10000
     },
     "inputWidgets": {},
     "nuid": "571e0228-3f31-40fa-b639-ea08e91afdb8",
     "showTitle": false,
     "tableResultSettingsMap": {},
     "title": ""
    }
   },
   "outputs": [],
   "source": [
    "%sql\n",
    "-- SELECT * FROM gold_db.top_countries_by_athletes LIMIT 5;\n",
    "-- SELECT * FROM gold_db.top_coaches LIMIT 5;\n",
    ";\n",
    "SELECT * FROM gold_db.events_per_country LIMIT 5;\n"
   ]
  },
  {
   "cell_type": "markdown",
   "metadata": {
    "application/vnd.databricks.v1+cell": {
     "cellMetadata": {
      "byteLimit": 2048000,
      "rowLimit": 10000
     },
     "inputWidgets": {},
     "nuid": "1274ed2c-527e-4384-9e11-65daef55a0f9",
     "showTitle": false,
     "tableResultSettingsMap": {},
     "title": ""
    }
   },
   "source": [
    "Code for Exporting to Lake\n"
   ]
  },
  {
   "cell_type": "code",
   "execution_count": 0,
   "metadata": {
    "application/vnd.databricks.v1+cell": {
     "cellMetadata": {
      "byteLimit": 2048000,
      "rowLimit": 10000
     },
     "inputWidgets": {},
     "nuid": "7d15e85c-4a8e-4ff5-9deb-809fe8a3f8dc",
     "showTitle": false,
     "tableResultSettingsMap": {},
     "title": ""
    }
   },
   "outputs": [],
   "source": [
    "# 1. Bronze Layer Export to ADLS\n",
    "df_bronze = spark.table(\"bronze_db.athletes\")\n",
    "\n",
    "df_bronze.write \\\n",
    "    .mode(\"overwrite\") \\\n",
    "    .format(\"delta\") \\\n",
    "    .option(\"overwriteSchema\", \"true\") \\\n",
    "    .save(\"abfss://bronze@olympicprjdl.dfs.core.windows.net/bronze_db/athletes\")\n",
    "\n",
    "df_bronze = spark.table(\"bronze_db.coaches\")\n",
    "\n",
    "df_bronze.write \\\n",
    "    .mode(\"overwrite\") \\\n",
    "    .format(\"delta\") \\\n",
    "    .option(\"overwriteSchema\", \"true\") \\\n",
    "    .save(\"abfss://bronze@olympicprjdl.dfs.core.windows.net/bronze_db/coaches\")\n",
    "\n",
    "df_bronze = spark.table(\"bronze_db.events\")\n",
    "\n",
    "df_bronze.write \\\n",
    "    .mode(\"overwrite\") \\\n",
    "    .format(\"delta\") \\\n",
    "    .option(\"overwriteSchema\", \"true\") \\\n",
    "    .save(\"abfss://bronze@olympicprjdl.dfs.core.windows.net/bronze_db/events\")\n"
   ]
  },
  {
   "cell_type": "code",
   "execution_count": 0,
   "metadata": {
    "application/vnd.databricks.v1+cell": {
     "cellMetadata": {
      "byteLimit": 2048000,
      "rowLimit": 10000
     },
     "inputWidgets": {},
     "nuid": "193f343c-ee8b-4290-be82-b6eb89836987",
     "showTitle": false,
     "tableResultSettingsMap": {},
     "title": ""
    }
   },
   "outputs": [],
   "source": [
    "# 2. Silver Layer Export to ADLS\n",
    "df_silver = spark.table(\"silver_db.athletes\")\n",
    "\n",
    "df_silver.write \\\n",
    "    .mode(\"overwrite\") \\\n",
    "    .format(\"delta\") \\\n",
    "    .save(\"abfss://silver@olympicprjdl.dfs.core.windows.net/silver_db/athletes\")\n",
    "\n",
    "df_silver = spark.table(\"silver_db.coaches\")\n",
    "\n",
    "df_silver.write \\\n",
    "    .mode(\"overwrite\") \\\n",
    "    .format(\"delta\") \\\n",
    "    .save(\"abfss://silver@olympicprjdl.dfs.core.windows.net/silver_db/coaches\")\n",
    "\n",
    "df_silver = spark.table(\"silver_db.events\")\n",
    "\n",
    "df_silver.write \\\n",
    "    .mode(\"overwrite\") \\\n",
    "    .format(\"delta\") \\\n",
    "    .save(\"abfss://silver@olympicprjdl.dfs.core.windows.net/silver_db/events\")\n"
   ]
  },
  {
   "cell_type": "markdown",
   "metadata": {
    "application/vnd.databricks.v1+cell": {
     "cellMetadata": {},
     "inputWidgets": {},
     "nuid": "2e97a27e-e79c-41d9-9619-d321779e85d9",
     "showTitle": false,
     "tableResultSettingsMap": {},
     "title": ""
    }
   },
   "source": [
    "__gold_layer Export_to_Adls"
   ]
  },
  {
   "cell_type": "code",
   "execution_count": 0,
   "metadata": {
    "application/vnd.databricks.v1+cell": {
     "cellMetadata": {
      "byteLimit": 2048000,
      "rowLimit": 10000
     },
     "inputWidgets": {},
     "nuid": "a96965f4-0892-4cca-9c0c-8974e1a87a0b",
     "showTitle": false,
     "tableResultSettingsMap": {},
     "title": ""
    }
   },
   "outputs": [],
   "source": [
    "# Top Countries by Athletes\n",
    "df_top_countries = spark.table(\"gold_db.top_countries_by_athletes\")\n",
    "\n",
    "df_top_countries.write \\\n",
    "    .mode(\"overwrite\") \\\n",
    "    .format(\"parquet\") \\\n",
    "    .save(\"abfss://gold@olympicprjdl.dfs.core.windows.net/gold_db/top_countries_by_athletes\")\n",
    "\n",
    "df_top_coaches = spark.table(\"gold_db.top_coaches\")\n",
    "\n",
    "#  Top Coaches\n",
    "df_top_coaches.write \\\n",
    "    .mode(\"overwrite\") \\\n",
    "    .format(\"parquet\") \\\n",
    "    .save(\"abfss://gold@olympicprjdl.dfs.core.windows.net/gold_db/top_coaches\")\n",
    "\n",
    "# Events per Country\n",
    "df_events_per_country = spark.table(\"gold_db.events_per_country\")\n",
    "\n",
    "df_events_per_country.write \\\n",
    "    .mode(\"overwrite\") \\\n",
    "    .format(\"parquet\") \\\n",
    "    .save(\"abfss://gold@olympicprjdl.dfs.core.windows.net/gold_db/events_per_country\")\n"
   ]
  },
  {
   "cell_type": "code",
   "execution_count": 0,
   "metadata": {
    "application/vnd.databricks.v1+cell": {
     "cellMetadata": {},
     "inputWidgets": {},
     "nuid": "ad5f9b83-cbfd-4d75-a523-ee9996d4ae9f",
     "showTitle": false,
     "tableResultSettingsMap": {},
     "title": ""
    }
   },
   "outputs": [],
   "source": []
  }
 ],
 "metadata": {
  "application/vnd.databricks.v1+notebook": {
   "computePreferences": null,
   "dashboards": [],
   "environmentMetadata": {
    "base_environment": "",
    "environment_version": "2"
   },
   "inputWidgetPreferences": null,
   "language": "python",
   "notebookMetadata": {
    "mostRecentlyExecutedCommandWithImplicitDF": {
     "commandId": 5417533871380170,
     "dataframes": [
      "_sqldf"
     ]
    },
    "pythonIndentUnit": 4
   },
   "notebookName": "olympic_notebook",
   "widgets": {}
  },
  "language_info": {
   "name": "python"
  }
 },
 "nbformat": 4,
 "nbformat_minor": 0
}